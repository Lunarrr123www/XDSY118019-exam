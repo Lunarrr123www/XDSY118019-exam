{
 "cells": [
  {
   "cell_type": "code",
   "execution_count": 3,
   "metadata": {},
   "outputs": [],
   "source": [
    "import numpy as np\n",
    "\n",
    "def format_number(num, decimals=0, last_digit=[]):\n",
    "    '''Format a number to a string suitable for the name of a data directory.\n",
    "\n",
    "    Args:\n",
    "        num (float): a float number to be formatted.\n",
    "        decimals (Optional[int]): Number of decimal places to round to. If decimals is negative, it specifies the number of positions to the left of the decimal point. Default: 0 (round to integer).\n",
    "        last_digit (Optional[List(int)]): A list of single digits that is allowed for the last digit of the output number. Default: [] (all digits are allowed).\n",
    "\n",
    "    Returns:\n",
    "        str: a string represents a float number.\n",
    "    '''\n",
    "    decimals = int(decimals)  # ensure it is an integer\n",
    "    num_rounded = round(num, decimals)\n",
    "    if decimals > 0:\n",
    "        format = '{:.' + repr(decimals) + 'f}'\n",
    "        numstr = format.format(num_rounded)\n",
    "    else:\n",
    "        num_rounded = int(num_rounded)\n",
    "        numstr = '{:d}'.format(num_rounded)\n",
    "\n",
    "    numstr = list(numstr)  # to ease manipulation\n",
    "    last = int(numstr[-1])\n",
    "\n",
    "    if last_digit:\n",
    "        if last not in last_digit:\n",
    "            i = np.searchsorted(np.sort(last_digit), last)\n",
    "            if i == 0:\n",
    "                left = last_digit[0]\n",
    "                right = last_digit[1]\n",
    "            elif i == len(last_digit):\n",
    "                left = last_digit[-2]\n",
    "                right = last_digit[-1]\n",
    "            else:\n",
    "                left = last_digit[i - 1]\n",
    "                right = last_digit[i]\n",
    "            numstr[-1] = repr(left)\n",
    "            num_left = float(''.join(numstr))\n",
    "            numstr[-1] = repr(right)\n",
    "            num_right = float(''.join(numstr))\n",
    "            if abs(num) - abs(num_left) < abs(num_right) - abs(num):\n",
    "                numstr[-1] = repr(left)\n",
    "            else:\n",
    "                numstr[-1] = repr(right)\n",
    "\n",
    "    return ''.join(numstr)"
   ]
  },
  {
   "cell_type": "code",
   "execution_count": 4,
   "metadata": {},
   "outputs": [
    {
     "data": {
      "text/plain": [
       "'1'"
      ]
     },
     "execution_count": 4,
     "metadata": {},
     "output_type": "execute_result"
    }
   ],
   "source": [
    "format_number(1.121)"
   ]
  },
  {
   "cell_type": "code",
   "execution_count": 5,
   "metadata": {},
   "outputs": [
    {
     "data": {
      "text/plain": [
       "'2.111'"
      ]
     },
     "execution_count": 5,
     "metadata": {},
     "output_type": "execute_result"
    }
   ],
   "source": [
    "format_number(2.111111, decimals=3)"
   ]
  },
  {
   "cell_type": "code",
   "execution_count": 8,
   "metadata": {},
   "outputs": [
    {
     "data": {
      "text/plain": [
       "'2000'"
      ]
     },
     "execution_count": 8,
     "metadata": {},
     "output_type": "execute_result"
    }
   ],
   "source": [
    "format_number(2345, decimals=-3)"
   ]
  },
  {
   "cell_type": "code",
   "execution_count": 9,
   "metadata": {},
   "outputs": [
    {
     "data": {
      "text/plain": [
       "'2.123'"
      ]
     },
     "execution_count": 9,
     "metadata": {},
     "output_type": "execute_result"
    }
   ],
   "source": [
    "format_number(2.12345, decimals=3, last_digit=[1,2,3])"
   ]
  },
  {
   "cell_type": "code",
   "execution_count": 7,
   "metadata": {},
   "outputs": [
    {
     "data": {
      "text/plain": [
       "'2.122'"
      ]
     },
     "execution_count": 7,
     "metadata": {},
     "output_type": "execute_result"
    }
   ],
   "source": [
    "format_number(2.12345, decimals=3, last_digit=[1,2])"
   ]
  },
  {
   "cell_type": "code",
   "execution_count": 1,
   "metadata": {},
   "outputs": [],
   "source": [
    "import numpy as np"
   ]
  },
  {
   "cell_type": "code",
   "execution_count": 2,
   "metadata": {},
   "outputs": [
    {
     "data": {
      "text/plain": [
       "array([[-0.86199095],\n",
       "       [ 0.78506787],\n",
       "       [ 0.37669683],\n",
       "       [ 0.14140271],\n",
       "       [ 0.59841629]])"
      ]
     },
     "execution_count": 2,
     "metadata": {},
     "output_type": "execute_result"
    }
   ],
   "source": [
    "A = np.array([[1,0,-3,0,5],\n",
    "              [4,-1,3,-2,9],\n",
    "              [0,3,2,-5,1],\n",
    "              [0,0,1,-4,7],\n",
    "              [9,8,7,6,5]])\n",
    "b = np.array([1,2,3,4,5]).reshape(5,1)\n",
    "x = np.linalg.inv(A) @ b\n",
    "x"
   ]
  },
  {
   "cell_type": "markdown",
   "metadata": {},
   "source": [
    "The **Riemann zeta function** or **Euler–Riemann zeta function**, denoted by the Greek letter $\\zeta$(zeta),is a mathematical function of a complex variable $s=\\sigma+it$ defined as  \n",
    "$$\n",
    "\\zeta(s)=\\sum_{n=1}^{∞} \\frac{1}{n^s}=\\frac{1}{1^s}+\\frac{1}{2^s}+\\frac{1}{3^s}+\\cdots\n",
    "$$  \n",
    "for $Re(s)>1$ and its analytic continuation elsewhere. When $Re(s)=\\sigma>1$ , \n",
    "the function can be written as a converging summation or integral:\n",
    "$$\n",
    "\\zeta(s)=\\sum_{n=1}^{∞} \\frac{1}{n^s}=\\frac{1}{\\Gamma(s)}\\int_{0}^{∞}\\frac{x^{s-1}}{e^{x}-1}\\mathrm{d}x\n",
    "$$  \n",
    "where\n",
    "$$\n",
    "\\Gamma(s)=\\int_{0}^{∞}x^{s-1}e^{-x}\\mathrm{d}x\n",
    "$$  \n",
    "is the gamma function.  \n",
    "  \n",
    "In 1737, the connection between the zeta function and prime numbers was discovered by Euler, who proved the identity  \n",
    "$$\n",
    "\\sum_{n=1}^{∞} \\frac{1}{n^s}=\\prod_{p prime} \\frac{1}{1-p^{-s}},\n",
    "$$  \n",
    "where, by definition, the left hand side is $\\zeta(s)$ and the infinite product on the right hand side extends over all prime numbers $\\mathcal p$(such expressions are called Euler products):  \n",
    "$$\n",
    "\\prod_{p prime} \\frac{1}{1-p^{-s}}=\\frac{1}{1-2^{-s}} \\cdot \\frac{1}{1-3^{-s}} \\cdot \\frac{1}{1-5^{-s}} \\cdot \\frac{1}{1-7^{-s}} \\cdot \\frac{1}{1-11^{-s}} \\cdots\\frac{1}{1-p^{-s}} \\cdots\n",
    "$$  \n",
    "Both sides of the Euler product formula converge for $Re(s)>1$.\n",
    "\n"
   ]
  }
 ],
 "metadata": {
  "kernelspec": {
   "display_name": "Python 3",
   "language": "python",
   "name": "python3"
  },
  "language_info": {
   "codemirror_mode": {
    "name": "ipython",
    "version": 3
   },
   "file_extension": ".py",
   "mimetype": "text/x-python",
   "name": "python",
   "nbconvert_exporter": "python",
   "pygments_lexer": "ipython3",
   "version": "3.7.0"
  }
 },
 "nbformat": 4,
 "nbformat_minor": 2
}
